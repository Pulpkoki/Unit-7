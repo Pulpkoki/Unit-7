{
 "cells": [
  {
   "cell_type": "markdown",
   "id": "5a4f1c95",
   "metadata": {},
   "source": [
    "# Building a model on customer churn binary classification problem"
   ]
  },
  {
   "cell_type": "markdown",
   "id": "bf4a9726",
   "metadata": {},
   "source": [
    "## Round 1 "
   ]
  },
  {
   "cell_type": "markdown",
   "id": "41b928f4",
   "metadata": {},
   "source": [
    "### Import the required libraries and modules"
   ]
  },
  {
   "cell_type": "code",
   "execution_count": 65,
   "id": "000208ab",
   "metadata": {},
   "outputs": [],
   "source": [
    "import pandas as pd\n",
    "import numpy as np;\n",
    "import scipy;\n",
    "## plotting libraries\n",
    "from matplotlib import pyplot as plt\n",
    "import seaborn as sns\n",
    "## stats Libraries\n",
    "from scipy import stats\n",
    "import statsmodels.api as sm\n",
    "## Sklearn libraries\n",
    "from sklearn import model_selection\n",
    "from sklearn import metrics as metrics\n",
    "from sklearn import preprocessing\n",
    "from sklearn import linear_model as lm\n",
    "%matplotlib inline"
   ]
  },
  {
   "cell_type": "markdown",
   "id": "6fb70bde",
   "metadata": {},
   "source": [
    "### Read that data into Python and call the dataframe churnData"
   ]
  },
  {
   "cell_type": "code",
   "execution_count": 66,
   "id": "2a7653cc",
   "metadata": {},
   "outputs": [],
   "source": [
    "df = pd.read_csv(\"DATA_Customer-Churn.csv\")"
   ]
  },
  {
   "cell_type": "code",
   "execution_count": 67,
   "id": "55014f27",
   "metadata": {},
   "outputs": [],
   "source": [
    "churnData = df"
   ]
  },
  {
   "cell_type": "code",
   "execution_count": 68,
   "id": "73301e49",
   "metadata": {},
   "outputs": [
    {
     "data": {
      "text/html": [
       "<div>\n",
       "<style scoped>\n",
       "    .dataframe tbody tr th:only-of-type {\n",
       "        vertical-align: middle;\n",
       "    }\n",
       "\n",
       "    .dataframe tbody tr th {\n",
       "        vertical-align: top;\n",
       "    }\n",
       "\n",
       "    .dataframe thead th {\n",
       "        text-align: right;\n",
       "    }\n",
       "</style>\n",
       "<table border=\"1\" class=\"dataframe\">\n",
       "  <thead>\n",
       "    <tr style=\"text-align: right;\">\n",
       "      <th></th>\n",
       "      <th>gender</th>\n",
       "      <th>SeniorCitizen</th>\n",
       "      <th>Partner</th>\n",
       "      <th>Dependents</th>\n",
       "      <th>tenure</th>\n",
       "      <th>PhoneService</th>\n",
       "      <th>OnlineSecurity</th>\n",
       "      <th>OnlineBackup</th>\n",
       "      <th>DeviceProtection</th>\n",
       "      <th>TechSupport</th>\n",
       "      <th>StreamingTV</th>\n",
       "      <th>StreamingMovies</th>\n",
       "      <th>Contract</th>\n",
       "      <th>MonthlyCharges</th>\n",
       "      <th>TotalCharges</th>\n",
       "      <th>Churn</th>\n",
       "    </tr>\n",
       "  </thead>\n",
       "  <tbody>\n",
       "    <tr>\n",
       "      <th>0</th>\n",
       "      <td>Female</td>\n",
       "      <td>0</td>\n",
       "      <td>Yes</td>\n",
       "      <td>No</td>\n",
       "      <td>1</td>\n",
       "      <td>No</td>\n",
       "      <td>No</td>\n",
       "      <td>Yes</td>\n",
       "      <td>No</td>\n",
       "      <td>No</td>\n",
       "      <td>No</td>\n",
       "      <td>No</td>\n",
       "      <td>Month-to-month</td>\n",
       "      <td>29.85</td>\n",
       "      <td>29.85</td>\n",
       "      <td>No</td>\n",
       "    </tr>\n",
       "    <tr>\n",
       "      <th>1</th>\n",
       "      <td>Male</td>\n",
       "      <td>0</td>\n",
       "      <td>No</td>\n",
       "      <td>No</td>\n",
       "      <td>34</td>\n",
       "      <td>Yes</td>\n",
       "      <td>Yes</td>\n",
       "      <td>No</td>\n",
       "      <td>Yes</td>\n",
       "      <td>No</td>\n",
       "      <td>No</td>\n",
       "      <td>No</td>\n",
       "      <td>One year</td>\n",
       "      <td>56.95</td>\n",
       "      <td>1889.5</td>\n",
       "      <td>No</td>\n",
       "    </tr>\n",
       "    <tr>\n",
       "      <th>2</th>\n",
       "      <td>Male</td>\n",
       "      <td>0</td>\n",
       "      <td>No</td>\n",
       "      <td>No</td>\n",
       "      <td>2</td>\n",
       "      <td>Yes</td>\n",
       "      <td>Yes</td>\n",
       "      <td>Yes</td>\n",
       "      <td>No</td>\n",
       "      <td>No</td>\n",
       "      <td>No</td>\n",
       "      <td>No</td>\n",
       "      <td>Month-to-month</td>\n",
       "      <td>53.85</td>\n",
       "      <td>108.15</td>\n",
       "      <td>Yes</td>\n",
       "    </tr>\n",
       "    <tr>\n",
       "      <th>3</th>\n",
       "      <td>Male</td>\n",
       "      <td>0</td>\n",
       "      <td>No</td>\n",
       "      <td>No</td>\n",
       "      <td>45</td>\n",
       "      <td>No</td>\n",
       "      <td>Yes</td>\n",
       "      <td>No</td>\n",
       "      <td>Yes</td>\n",
       "      <td>Yes</td>\n",
       "      <td>No</td>\n",
       "      <td>No</td>\n",
       "      <td>One year</td>\n",
       "      <td>42.30</td>\n",
       "      <td>1840.75</td>\n",
       "      <td>No</td>\n",
       "    </tr>\n",
       "    <tr>\n",
       "      <th>4</th>\n",
       "      <td>Female</td>\n",
       "      <td>0</td>\n",
       "      <td>No</td>\n",
       "      <td>No</td>\n",
       "      <td>2</td>\n",
       "      <td>Yes</td>\n",
       "      <td>No</td>\n",
       "      <td>No</td>\n",
       "      <td>No</td>\n",
       "      <td>No</td>\n",
       "      <td>No</td>\n",
       "      <td>No</td>\n",
       "      <td>Month-to-month</td>\n",
       "      <td>70.70</td>\n",
       "      <td>151.65</td>\n",
       "      <td>Yes</td>\n",
       "    </tr>\n",
       "    <tr>\n",
       "      <th>...</th>\n",
       "      <td>...</td>\n",
       "      <td>...</td>\n",
       "      <td>...</td>\n",
       "      <td>...</td>\n",
       "      <td>...</td>\n",
       "      <td>...</td>\n",
       "      <td>...</td>\n",
       "      <td>...</td>\n",
       "      <td>...</td>\n",
       "      <td>...</td>\n",
       "      <td>...</td>\n",
       "      <td>...</td>\n",
       "      <td>...</td>\n",
       "      <td>...</td>\n",
       "      <td>...</td>\n",
       "      <td>...</td>\n",
       "    </tr>\n",
       "    <tr>\n",
       "      <th>7038</th>\n",
       "      <td>Male</td>\n",
       "      <td>0</td>\n",
       "      <td>Yes</td>\n",
       "      <td>Yes</td>\n",
       "      <td>24</td>\n",
       "      <td>Yes</td>\n",
       "      <td>Yes</td>\n",
       "      <td>No</td>\n",
       "      <td>Yes</td>\n",
       "      <td>Yes</td>\n",
       "      <td>Yes</td>\n",
       "      <td>Yes</td>\n",
       "      <td>One year</td>\n",
       "      <td>84.80</td>\n",
       "      <td>1990.5</td>\n",
       "      <td>No</td>\n",
       "    </tr>\n",
       "    <tr>\n",
       "      <th>7039</th>\n",
       "      <td>Female</td>\n",
       "      <td>0</td>\n",
       "      <td>Yes</td>\n",
       "      <td>Yes</td>\n",
       "      <td>72</td>\n",
       "      <td>Yes</td>\n",
       "      <td>No</td>\n",
       "      <td>Yes</td>\n",
       "      <td>Yes</td>\n",
       "      <td>No</td>\n",
       "      <td>Yes</td>\n",
       "      <td>Yes</td>\n",
       "      <td>One year</td>\n",
       "      <td>103.20</td>\n",
       "      <td>7362.9</td>\n",
       "      <td>No</td>\n",
       "    </tr>\n",
       "    <tr>\n",
       "      <th>7040</th>\n",
       "      <td>Female</td>\n",
       "      <td>0</td>\n",
       "      <td>Yes</td>\n",
       "      <td>Yes</td>\n",
       "      <td>11</td>\n",
       "      <td>No</td>\n",
       "      <td>Yes</td>\n",
       "      <td>No</td>\n",
       "      <td>No</td>\n",
       "      <td>No</td>\n",
       "      <td>No</td>\n",
       "      <td>No</td>\n",
       "      <td>Month-to-month</td>\n",
       "      <td>29.60</td>\n",
       "      <td>346.45</td>\n",
       "      <td>No</td>\n",
       "    </tr>\n",
       "    <tr>\n",
       "      <th>7041</th>\n",
       "      <td>Male</td>\n",
       "      <td>1</td>\n",
       "      <td>Yes</td>\n",
       "      <td>No</td>\n",
       "      <td>4</td>\n",
       "      <td>Yes</td>\n",
       "      <td>No</td>\n",
       "      <td>No</td>\n",
       "      <td>No</td>\n",
       "      <td>No</td>\n",
       "      <td>No</td>\n",
       "      <td>No</td>\n",
       "      <td>Month-to-month</td>\n",
       "      <td>74.40</td>\n",
       "      <td>306.6</td>\n",
       "      <td>Yes</td>\n",
       "    </tr>\n",
       "    <tr>\n",
       "      <th>7042</th>\n",
       "      <td>Male</td>\n",
       "      <td>0</td>\n",
       "      <td>No</td>\n",
       "      <td>No</td>\n",
       "      <td>66</td>\n",
       "      <td>Yes</td>\n",
       "      <td>Yes</td>\n",
       "      <td>No</td>\n",
       "      <td>Yes</td>\n",
       "      <td>Yes</td>\n",
       "      <td>Yes</td>\n",
       "      <td>Yes</td>\n",
       "      <td>Two year</td>\n",
       "      <td>105.65</td>\n",
       "      <td>6844.5</td>\n",
       "      <td>No</td>\n",
       "    </tr>\n",
       "  </tbody>\n",
       "</table>\n",
       "<p>7043 rows × 16 columns</p>\n",
       "</div>"
      ],
      "text/plain": [
       "      gender  SeniorCitizen Partner Dependents  tenure PhoneService  \\\n",
       "0     Female              0     Yes         No       1           No   \n",
       "1       Male              0      No         No      34          Yes   \n",
       "2       Male              0      No         No       2          Yes   \n",
       "3       Male              0      No         No      45           No   \n",
       "4     Female              0      No         No       2          Yes   \n",
       "...      ...            ...     ...        ...     ...          ...   \n",
       "7038    Male              0     Yes        Yes      24          Yes   \n",
       "7039  Female              0     Yes        Yes      72          Yes   \n",
       "7040  Female              0     Yes        Yes      11           No   \n",
       "7041    Male              1     Yes         No       4          Yes   \n",
       "7042    Male              0      No         No      66          Yes   \n",
       "\n",
       "     OnlineSecurity OnlineBackup DeviceProtection TechSupport StreamingTV  \\\n",
       "0                No          Yes               No          No          No   \n",
       "1               Yes           No              Yes          No          No   \n",
       "2               Yes          Yes               No          No          No   \n",
       "3               Yes           No              Yes         Yes          No   \n",
       "4                No           No               No          No          No   \n",
       "...             ...          ...              ...         ...         ...   \n",
       "7038            Yes           No              Yes         Yes         Yes   \n",
       "7039             No          Yes              Yes          No         Yes   \n",
       "7040            Yes           No               No          No          No   \n",
       "7041             No           No               No          No          No   \n",
       "7042            Yes           No              Yes         Yes         Yes   \n",
       "\n",
       "     StreamingMovies        Contract  MonthlyCharges TotalCharges Churn  \n",
       "0                 No  Month-to-month           29.85        29.85    No  \n",
       "1                 No        One year           56.95       1889.5    No  \n",
       "2                 No  Month-to-month           53.85       108.15   Yes  \n",
       "3                 No        One year           42.30      1840.75    No  \n",
       "4                 No  Month-to-month           70.70       151.65   Yes  \n",
       "...              ...             ...             ...          ...   ...  \n",
       "7038             Yes        One year           84.80       1990.5    No  \n",
       "7039             Yes        One year          103.20       7362.9    No  \n",
       "7040              No  Month-to-month           29.60       346.45    No  \n",
       "7041              No  Month-to-month           74.40        306.6   Yes  \n",
       "7042             Yes        Two year          105.65       6844.5    No  \n",
       "\n",
       "[7043 rows x 16 columns]"
      ]
     },
     "execution_count": 68,
     "metadata": {},
     "output_type": "execute_result"
    }
   ],
   "source": [
    "churnData"
   ]
  },
  {
   "cell_type": "markdown",
   "id": "886d5072",
   "metadata": {},
   "source": [
    "### Check the datatypes of all the columns in the data. You would see that the column TotalCharges is object type. Convert this column into numeric type using pd.to_numeric function"
   ]
  },
  {
   "cell_type": "code",
   "execution_count": 69,
   "id": "71f7d9e9",
   "metadata": {},
   "outputs": [
    {
     "data": {
      "text/plain": [
       "gender               object\n",
       "SeniorCitizen         int64\n",
       "Partner              object\n",
       "Dependents           object\n",
       "tenure                int64\n",
       "PhoneService         object\n",
       "OnlineSecurity       object\n",
       "OnlineBackup         object\n",
       "DeviceProtection     object\n",
       "TechSupport          object\n",
       "StreamingTV          object\n",
       "StreamingMovies      object\n",
       "Contract             object\n",
       "MonthlyCharges      float64\n",
       "TotalCharges         object\n",
       "Churn                object\n",
       "dtype: object"
      ]
     },
     "execution_count": 69,
     "metadata": {},
     "output_type": "execute_result"
    }
   ],
   "source": [
    "churnData.dtypes"
   ]
  },
  {
   "cell_type": "code",
   "execution_count": 70,
   "id": "186bd3bd",
   "metadata": {},
   "outputs": [],
   "source": [
    "#churnData[\"TotalCharges\"] = pd.to_numeric(churnData[\"TotalCharges\"])\n",
    "#churnData[['TotalCharges']] = churnData[['TotalCharges']].apply(pd.to_numeric)\n",
    "\n",
    "churnData[\"TotalCharges\"] = pd.to_numeric(churnData.TotalCharges, errors='coerce')"
   ]
  },
  {
   "cell_type": "code",
   "execution_count": 71,
   "id": "38690358",
   "metadata": {},
   "outputs": [
    {
     "data": {
      "text/plain": [
       "11"
      ]
     },
     "execution_count": 71,
     "metadata": {},
     "output_type": "execute_result"
    }
   ],
   "source": [
    "#Get a list of a particular column values\n",
    "churnData['TotalCharges'].isna().sum()"
   ]
  },
  {
   "cell_type": "code",
   "execution_count": 72,
   "id": "e4c52a0a",
   "metadata": {},
   "outputs": [
    {
     "name": "stdout",
     "output_type": "stream",
     "text": [
      "<class 'pandas.core.frame.DataFrame'>\n",
      "RangeIndex: 7043 entries, 0 to 7042\n",
      "Data columns (total 16 columns):\n",
      " #   Column            Non-Null Count  Dtype  \n",
      "---  ------            --------------  -----  \n",
      " 0   gender            7043 non-null   object \n",
      " 1   SeniorCitizen     7043 non-null   int64  \n",
      " 2   Partner           7043 non-null   object \n",
      " 3   Dependents        7043 non-null   object \n",
      " 4   tenure            7043 non-null   int64  \n",
      " 5   PhoneService      7043 non-null   object \n",
      " 6   OnlineSecurity    7043 non-null   object \n",
      " 7   OnlineBackup      7043 non-null   object \n",
      " 8   DeviceProtection  7043 non-null   object \n",
      " 9   TechSupport       7043 non-null   object \n",
      " 10  StreamingTV       7043 non-null   object \n",
      " 11  StreamingMovies   7043 non-null   object \n",
      " 12  Contract          7043 non-null   object \n",
      " 13  MonthlyCharges    7043 non-null   float64\n",
      " 14  TotalCharges      7032 non-null   float64\n",
      " 15  Churn             7043 non-null   int64  \n",
      "dtypes: float64(2), int64(3), object(11)\n",
      "memory usage: 880.5+ KB\n"
     ]
    }
   ],
   "source": [
    "churn_map = (dict(Yes=1,No=0))\n",
    "churnData['Churn'] = churnData['Churn'].map(churn_map)\n",
    "churnData.info()"
   ]
  },
  {
   "cell_type": "markdown",
   "id": "ff6e4739",
   "metadata": {},
   "source": [
    "### Check for null values in the dataframe. Replace the null values."
   ]
  },
  {
   "cell_type": "code",
   "execution_count": 73,
   "id": "4010770b",
   "metadata": {},
   "outputs": [
    {
     "data": {
      "text/plain": [
       "7043"
      ]
     },
     "execution_count": 73,
     "metadata": {},
     "output_type": "execute_result"
    }
   ],
   "source": [
    "# number of missing values\n",
    "len(churnData.isna()==True) "
   ]
  },
  {
   "cell_type": "code",
   "execution_count": 74,
   "id": "6f174ed1",
   "metadata": {},
   "outputs": [
    {
     "data": {
      "text/plain": [
       "gender  SeniorCitizen  Partner  Dependents  tenure  PhoneService  OnlineSecurity       OnlineBackup         DeviceProtection     TechSupport          StreamingTV          StreamingMovies      Contract        MonthlyCharges  TotalCharges  Churn\n",
       "Male    0              No       No          1       Yes           No internet service  No internet service  No internet service  No internet service  No internet service  No internet service  Month-to-month  20.20           20.20         1        4\n",
       "                                                                                                                                                                                                                20.45           20.45         0        4\n",
       "                                                                                                                                                                                                                19.75           19.75         0        4\n",
       "Female  0              No       No          1       Yes           No internet service  No internet service  No internet service  No internet service  No internet service  No internet service  Month-to-month  19.55           19.55         0        4\n",
       "Male    0              No       No          1       Yes           No internet service  No internet service  No internet service  No internet service  No internet service  No internet service  Month-to-month  20.05           20.05         0        4\n",
       "                                                                                                                                                                                                                                                      ..\n",
       "Female  0              Yes      Yes         25      Yes           No internet service  No internet service  No internet service  No internet service  No internet service  No internet service  Two year        20.10           486.05        0        1\n",
       "                                                                                                                                                                                                                18.70           383.65        0        1\n",
       "                                                                                                                                                                                                One year        20.05           520.10        0        1\n",
       "                                                                  No                   Yes                  Yes                  No                   Yes                  No                   Month-to-month  89.15           2257.75       1        1\n",
       "Male    1              Yes      Yes         72      Yes           Yes                  Yes                  Yes                  Yes                  Yes                  Yes                  Two year        115.75          8399.15       0        1\n",
       "Length: 6983, dtype: int64"
      ]
     },
     "execution_count": 74,
     "metadata": {},
     "output_type": "execute_result"
    }
   ],
   "source": [
    "churnData.value_counts()"
   ]
  },
  {
   "cell_type": "code",
   "execution_count": 75,
   "id": "359ae36b",
   "metadata": {},
   "outputs": [
    {
     "data": {
      "text/plain": [
       "gender               0\n",
       "SeniorCitizen        0\n",
       "Partner              0\n",
       "Dependents           0\n",
       "tenure               0\n",
       "PhoneService         0\n",
       "OnlineSecurity       0\n",
       "OnlineBackup         0\n",
       "DeviceProtection     0\n",
       "TechSupport          0\n",
       "StreamingTV          0\n",
       "StreamingMovies      0\n",
       "Contract             0\n",
       "MonthlyCharges       0\n",
       "TotalCharges        11\n",
       "Churn                0\n",
       "dtype: int64"
      ]
     },
     "execution_count": 75,
     "metadata": {},
     "output_type": "execute_result"
    }
   ],
   "source": [
    "churnData.isnull().sum()"
   ]
  },
  {
   "cell_type": "code",
   "execution_count": 76,
   "id": "26181605",
   "metadata": {},
   "outputs": [
    {
     "data": {
      "text/html": [
       "<div>\n",
       "<style scoped>\n",
       "    .dataframe tbody tr th:only-of-type {\n",
       "        vertical-align: middle;\n",
       "    }\n",
       "\n",
       "    .dataframe tbody tr th {\n",
       "        vertical-align: top;\n",
       "    }\n",
       "\n",
       "    .dataframe thead th {\n",
       "        text-align: right;\n",
       "    }\n",
       "</style>\n",
       "<table border=\"1\" class=\"dataframe\">\n",
       "  <thead>\n",
       "    <tr style=\"text-align: right;\">\n",
       "      <th></th>\n",
       "      <th>gender</th>\n",
       "      <th>SeniorCitizen</th>\n",
       "      <th>Partner</th>\n",
       "      <th>Dependents</th>\n",
       "      <th>tenure</th>\n",
       "      <th>PhoneService</th>\n",
       "      <th>OnlineSecurity</th>\n",
       "      <th>OnlineBackup</th>\n",
       "      <th>DeviceProtection</th>\n",
       "      <th>TechSupport</th>\n",
       "      <th>StreamingTV</th>\n",
       "      <th>StreamingMovies</th>\n",
       "      <th>Contract</th>\n",
       "      <th>MonthlyCharges</th>\n",
       "      <th>TotalCharges</th>\n",
       "      <th>Churn</th>\n",
       "    </tr>\n",
       "  </thead>\n",
       "  <tbody>\n",
       "    <tr>\n",
       "      <th>0</th>\n",
       "      <td>Female</td>\n",
       "      <td>0</td>\n",
       "      <td>Yes</td>\n",
       "      <td>No</td>\n",
       "      <td>1</td>\n",
       "      <td>No</td>\n",
       "      <td>No</td>\n",
       "      <td>Yes</td>\n",
       "      <td>No</td>\n",
       "      <td>No</td>\n",
       "      <td>No</td>\n",
       "      <td>No</td>\n",
       "      <td>Month-to-month</td>\n",
       "      <td>29.85</td>\n",
       "      <td>29.85</td>\n",
       "      <td>0</td>\n",
       "    </tr>\n",
       "    <tr>\n",
       "      <th>1</th>\n",
       "      <td>Male</td>\n",
       "      <td>0</td>\n",
       "      <td>No</td>\n",
       "      <td>No</td>\n",
       "      <td>34</td>\n",
       "      <td>Yes</td>\n",
       "      <td>Yes</td>\n",
       "      <td>No</td>\n",
       "      <td>Yes</td>\n",
       "      <td>No</td>\n",
       "      <td>No</td>\n",
       "      <td>No</td>\n",
       "      <td>One year</td>\n",
       "      <td>56.95</td>\n",
       "      <td>1889.50</td>\n",
       "      <td>0</td>\n",
       "    </tr>\n",
       "    <tr>\n",
       "      <th>2</th>\n",
       "      <td>Male</td>\n",
       "      <td>0</td>\n",
       "      <td>No</td>\n",
       "      <td>No</td>\n",
       "      <td>2</td>\n",
       "      <td>Yes</td>\n",
       "      <td>Yes</td>\n",
       "      <td>Yes</td>\n",
       "      <td>No</td>\n",
       "      <td>No</td>\n",
       "      <td>No</td>\n",
       "      <td>No</td>\n",
       "      <td>Month-to-month</td>\n",
       "      <td>53.85</td>\n",
       "      <td>108.15</td>\n",
       "      <td>1</td>\n",
       "    </tr>\n",
       "    <tr>\n",
       "      <th>3</th>\n",
       "      <td>Male</td>\n",
       "      <td>0</td>\n",
       "      <td>No</td>\n",
       "      <td>No</td>\n",
       "      <td>45</td>\n",
       "      <td>No</td>\n",
       "      <td>Yes</td>\n",
       "      <td>No</td>\n",
       "      <td>Yes</td>\n",
       "      <td>Yes</td>\n",
       "      <td>No</td>\n",
       "      <td>No</td>\n",
       "      <td>One year</td>\n",
       "      <td>42.30</td>\n",
       "      <td>1840.75</td>\n",
       "      <td>0</td>\n",
       "    </tr>\n",
       "    <tr>\n",
       "      <th>4</th>\n",
       "      <td>Female</td>\n",
       "      <td>0</td>\n",
       "      <td>No</td>\n",
       "      <td>No</td>\n",
       "      <td>2</td>\n",
       "      <td>Yes</td>\n",
       "      <td>No</td>\n",
       "      <td>No</td>\n",
       "      <td>No</td>\n",
       "      <td>No</td>\n",
       "      <td>No</td>\n",
       "      <td>No</td>\n",
       "      <td>Month-to-month</td>\n",
       "      <td>70.70</td>\n",
       "      <td>151.65</td>\n",
       "      <td>1</td>\n",
       "    </tr>\n",
       "    <tr>\n",
       "      <th>...</th>\n",
       "      <td>...</td>\n",
       "      <td>...</td>\n",
       "      <td>...</td>\n",
       "      <td>...</td>\n",
       "      <td>...</td>\n",
       "      <td>...</td>\n",
       "      <td>...</td>\n",
       "      <td>...</td>\n",
       "      <td>...</td>\n",
       "      <td>...</td>\n",
       "      <td>...</td>\n",
       "      <td>...</td>\n",
       "      <td>...</td>\n",
       "      <td>...</td>\n",
       "      <td>...</td>\n",
       "      <td>...</td>\n",
       "    </tr>\n",
       "    <tr>\n",
       "      <th>7038</th>\n",
       "      <td>Male</td>\n",
       "      <td>0</td>\n",
       "      <td>Yes</td>\n",
       "      <td>Yes</td>\n",
       "      <td>24</td>\n",
       "      <td>Yes</td>\n",
       "      <td>Yes</td>\n",
       "      <td>No</td>\n",
       "      <td>Yes</td>\n",
       "      <td>Yes</td>\n",
       "      <td>Yes</td>\n",
       "      <td>Yes</td>\n",
       "      <td>One year</td>\n",
       "      <td>84.80</td>\n",
       "      <td>1990.50</td>\n",
       "      <td>0</td>\n",
       "    </tr>\n",
       "    <tr>\n",
       "      <th>7039</th>\n",
       "      <td>Female</td>\n",
       "      <td>0</td>\n",
       "      <td>Yes</td>\n",
       "      <td>Yes</td>\n",
       "      <td>72</td>\n",
       "      <td>Yes</td>\n",
       "      <td>No</td>\n",
       "      <td>Yes</td>\n",
       "      <td>Yes</td>\n",
       "      <td>No</td>\n",
       "      <td>Yes</td>\n",
       "      <td>Yes</td>\n",
       "      <td>One year</td>\n",
       "      <td>103.20</td>\n",
       "      <td>7362.90</td>\n",
       "      <td>0</td>\n",
       "    </tr>\n",
       "    <tr>\n",
       "      <th>7040</th>\n",
       "      <td>Female</td>\n",
       "      <td>0</td>\n",
       "      <td>Yes</td>\n",
       "      <td>Yes</td>\n",
       "      <td>11</td>\n",
       "      <td>No</td>\n",
       "      <td>Yes</td>\n",
       "      <td>No</td>\n",
       "      <td>No</td>\n",
       "      <td>No</td>\n",
       "      <td>No</td>\n",
       "      <td>No</td>\n",
       "      <td>Month-to-month</td>\n",
       "      <td>29.60</td>\n",
       "      <td>346.45</td>\n",
       "      <td>0</td>\n",
       "    </tr>\n",
       "    <tr>\n",
       "      <th>7041</th>\n",
       "      <td>Male</td>\n",
       "      <td>1</td>\n",
       "      <td>Yes</td>\n",
       "      <td>No</td>\n",
       "      <td>4</td>\n",
       "      <td>Yes</td>\n",
       "      <td>No</td>\n",
       "      <td>No</td>\n",
       "      <td>No</td>\n",
       "      <td>No</td>\n",
       "      <td>No</td>\n",
       "      <td>No</td>\n",
       "      <td>Month-to-month</td>\n",
       "      <td>74.40</td>\n",
       "      <td>306.60</td>\n",
       "      <td>1</td>\n",
       "    </tr>\n",
       "    <tr>\n",
       "      <th>7042</th>\n",
       "      <td>Male</td>\n",
       "      <td>0</td>\n",
       "      <td>No</td>\n",
       "      <td>No</td>\n",
       "      <td>66</td>\n",
       "      <td>Yes</td>\n",
       "      <td>Yes</td>\n",
       "      <td>No</td>\n",
       "      <td>Yes</td>\n",
       "      <td>Yes</td>\n",
       "      <td>Yes</td>\n",
       "      <td>Yes</td>\n",
       "      <td>Two year</td>\n",
       "      <td>105.65</td>\n",
       "      <td>6844.50</td>\n",
       "      <td>0</td>\n",
       "    </tr>\n",
       "  </tbody>\n",
       "</table>\n",
       "<p>7043 rows × 16 columns</p>\n",
       "</div>"
      ],
      "text/plain": [
       "      gender  SeniorCitizen Partner Dependents  tenure PhoneService  \\\n",
       "0     Female              0     Yes         No       1           No   \n",
       "1       Male              0      No         No      34          Yes   \n",
       "2       Male              0      No         No       2          Yes   \n",
       "3       Male              0      No         No      45           No   \n",
       "4     Female              0      No         No       2          Yes   \n",
       "...      ...            ...     ...        ...     ...          ...   \n",
       "7038    Male              0     Yes        Yes      24          Yes   \n",
       "7039  Female              0     Yes        Yes      72          Yes   \n",
       "7040  Female              0     Yes        Yes      11           No   \n",
       "7041    Male              1     Yes         No       4          Yes   \n",
       "7042    Male              0      No         No      66          Yes   \n",
       "\n",
       "     OnlineSecurity OnlineBackup DeviceProtection TechSupport StreamingTV  \\\n",
       "0                No          Yes               No          No          No   \n",
       "1               Yes           No              Yes          No          No   \n",
       "2               Yes          Yes               No          No          No   \n",
       "3               Yes           No              Yes         Yes          No   \n",
       "4                No           No               No          No          No   \n",
       "...             ...          ...              ...         ...         ...   \n",
       "7038            Yes           No              Yes         Yes         Yes   \n",
       "7039             No          Yes              Yes          No         Yes   \n",
       "7040            Yes           No               No          No          No   \n",
       "7041             No           No               No          No          No   \n",
       "7042            Yes           No              Yes         Yes         Yes   \n",
       "\n",
       "     StreamingMovies        Contract  MonthlyCharges  TotalCharges  Churn  \n",
       "0                 No  Month-to-month           29.85         29.85      0  \n",
       "1                 No        One year           56.95       1889.50      0  \n",
       "2                 No  Month-to-month           53.85        108.15      1  \n",
       "3                 No        One year           42.30       1840.75      0  \n",
       "4                 No  Month-to-month           70.70        151.65      1  \n",
       "...              ...             ...             ...           ...    ...  \n",
       "7038             Yes        One year           84.80       1990.50      0  \n",
       "7039             Yes        One year          103.20       7362.90      0  \n",
       "7040              No  Month-to-month           29.60        346.45      0  \n",
       "7041              No  Month-to-month           74.40        306.60      1  \n",
       "7042             Yes        Two year          105.65       6844.50      0  \n",
       "\n",
       "[7043 rows x 16 columns]"
      ]
     },
     "execution_count": 76,
     "metadata": {},
     "output_type": "execute_result"
    }
   ],
   "source": [
    "mean_TotalCharges = np.mean(churnData['TotalCharges'])\n",
    "churnData['TotalCharges'] = churnData['TotalCharges'].fillna(mean_TotalCharges)\n",
    "churnData"
   ]
  },
  {
   "cell_type": "markdown",
   "id": "7ba5bc1a",
   "metadata": {},
   "source": [
    "### Use the following features: tenure, SeniorCitizen, MonthlyCharges and TotalCharges:"
   ]
  },
  {
   "cell_type": "code",
   "execution_count": 77,
   "id": "0883ef50",
   "metadata": {},
   "outputs": [
    {
     "data": {
      "text/html": [
       "<div>\n",
       "<style scoped>\n",
       "    .dataframe tbody tr th:only-of-type {\n",
       "        vertical-align: middle;\n",
       "    }\n",
       "\n",
       "    .dataframe tbody tr th {\n",
       "        vertical-align: top;\n",
       "    }\n",
       "\n",
       "    .dataframe thead th {\n",
       "        text-align: right;\n",
       "    }\n",
       "</style>\n",
       "<table border=\"1\" class=\"dataframe\">\n",
       "  <thead>\n",
       "    <tr style=\"text-align: right;\">\n",
       "      <th></th>\n",
       "      <th>SeniorCitizen</th>\n",
       "      <th>tenure</th>\n",
       "      <th>MonthlyCharges</th>\n",
       "      <th>TotalCharges</th>\n",
       "      <th>Churn</th>\n",
       "    </tr>\n",
       "  </thead>\n",
       "  <tbody>\n",
       "    <tr>\n",
       "      <th>0</th>\n",
       "      <td>0</td>\n",
       "      <td>1</td>\n",
       "      <td>29.85</td>\n",
       "      <td>29.85</td>\n",
       "      <td>0</td>\n",
       "    </tr>\n",
       "    <tr>\n",
       "      <th>1</th>\n",
       "      <td>0</td>\n",
       "      <td>34</td>\n",
       "      <td>56.95</td>\n",
       "      <td>1889.50</td>\n",
       "      <td>0</td>\n",
       "    </tr>\n",
       "    <tr>\n",
       "      <th>2</th>\n",
       "      <td>0</td>\n",
       "      <td>2</td>\n",
       "      <td>53.85</td>\n",
       "      <td>108.15</td>\n",
       "      <td>1</td>\n",
       "    </tr>\n",
       "    <tr>\n",
       "      <th>3</th>\n",
       "      <td>0</td>\n",
       "      <td>45</td>\n",
       "      <td>42.30</td>\n",
       "      <td>1840.75</td>\n",
       "      <td>0</td>\n",
       "    </tr>\n",
       "    <tr>\n",
       "      <th>4</th>\n",
       "      <td>0</td>\n",
       "      <td>2</td>\n",
       "      <td>70.70</td>\n",
       "      <td>151.65</td>\n",
       "      <td>1</td>\n",
       "    </tr>\n",
       "    <tr>\n",
       "      <th>...</th>\n",
       "      <td>...</td>\n",
       "      <td>...</td>\n",
       "      <td>...</td>\n",
       "      <td>...</td>\n",
       "      <td>...</td>\n",
       "    </tr>\n",
       "    <tr>\n",
       "      <th>7038</th>\n",
       "      <td>0</td>\n",
       "      <td>24</td>\n",
       "      <td>84.80</td>\n",
       "      <td>1990.50</td>\n",
       "      <td>0</td>\n",
       "    </tr>\n",
       "    <tr>\n",
       "      <th>7039</th>\n",
       "      <td>0</td>\n",
       "      <td>72</td>\n",
       "      <td>103.20</td>\n",
       "      <td>7362.90</td>\n",
       "      <td>0</td>\n",
       "    </tr>\n",
       "    <tr>\n",
       "      <th>7040</th>\n",
       "      <td>0</td>\n",
       "      <td>11</td>\n",
       "      <td>29.60</td>\n",
       "      <td>346.45</td>\n",
       "      <td>0</td>\n",
       "    </tr>\n",
       "    <tr>\n",
       "      <th>7041</th>\n",
       "      <td>1</td>\n",
       "      <td>4</td>\n",
       "      <td>74.40</td>\n",
       "      <td>306.60</td>\n",
       "      <td>1</td>\n",
       "    </tr>\n",
       "    <tr>\n",
       "      <th>7042</th>\n",
       "      <td>0</td>\n",
       "      <td>66</td>\n",
       "      <td>105.65</td>\n",
       "      <td>6844.50</td>\n",
       "      <td>0</td>\n",
       "    </tr>\n",
       "  </tbody>\n",
       "</table>\n",
       "<p>7043 rows × 5 columns</p>\n",
       "</div>"
      ],
      "text/plain": [
       "      SeniorCitizen  tenure  MonthlyCharges  TotalCharges  Churn\n",
       "0                 0       1           29.85         29.85      0\n",
       "1                 0      34           56.95       1889.50      0\n",
       "2                 0       2           53.85        108.15      1\n",
       "3                 0      45           42.30       1840.75      0\n",
       "4                 0       2           70.70        151.65      1\n",
       "...             ...     ...             ...           ...    ...\n",
       "7038              0      24           84.80       1990.50      0\n",
       "7039              0      72          103.20       7362.90      0\n",
       "7040              0      11           29.60        346.45      0\n",
       "7041              1       4           74.40        306.60      1\n",
       "7042              0      66          105.65       6844.50      0\n",
       "\n",
       "[7043 rows x 5 columns]"
      ]
     },
     "execution_count": 77,
     "metadata": {},
     "output_type": "execute_result"
    }
   ],
   "source": [
    "churnData_new = churnData.select_dtypes(include=np.number)\n",
    "churnData_new"
   ]
  },
  {
   "cell_type": "code",
   "execution_count": 78,
   "id": "ebad6a67",
   "metadata": {},
   "outputs": [
    {
     "data": {
      "text/plain": [
       "SeniorCitizen  tenure  MonthlyCharges  TotalCharges  Churn\n",
       "0              1       19.75           19.75         0        7\n",
       "                       19.65           19.65         0        6\n",
       "                       19.55           19.55         0        6\n",
       "                       20.05           20.05         0        6\n",
       "                       20.20           20.20         1        6\n",
       "                                                             ..\n",
       "               22      20.15           432.50        0        1\n",
       "                                       419.90        0        1\n",
       "                       20.05           470.20        0        1\n",
       "                       19.95           433.50        0        1\n",
       "1              72      117.35          8436.25       0        1\n",
       "Length: 6888, dtype: int64"
      ]
     },
     "execution_count": 78,
     "metadata": {},
     "output_type": "execute_result"
    }
   ],
   "source": [
    "churnData_new.value_counts()"
   ]
  },
  {
   "cell_type": "markdown",
   "id": "4171e578",
   "metadata": {},
   "source": [
    "#### Split the data into a training set and a test set."
   ]
  },
  {
   "cell_type": "code",
   "execution_count": 79,
   "id": "e081be61",
   "metadata": {},
   "outputs": [
    {
     "data": {
      "text/plain": [
       "(      SeniorCitizen  tenure  MonthlyCharges  TotalCharges\n",
       " 1479              0      44           49.05   2265.000000\n",
       " 2377              0      47           55.30   2654.050000\n",
       " 6613              0       3           20.40     63.150000\n",
       " 6468              0      14           44.60    641.250000\n",
       " 2668              0       1           19.75     19.750000\n",
       " ...             ...     ...             ...           ...\n",
       " 5218              0       0           19.70   2283.300441\n",
       " 4060              0      54           63.35   3409.100000\n",
       " 1346              0      14           87.25   1258.600000\n",
       " 3454              1      29           35.65   1025.150000\n",
       " 3582              0       3           80.50    232.350000\n",
       " \n",
       " [4930 rows x 4 columns],\n",
       "       SeniorCitizen  tenure  MonthlyCharges  TotalCharges\n",
       " 941               0      13           30.15        382.20\n",
       " 1404              0      35           23.30        797.10\n",
       " 5515              0      18           19.35        309.25\n",
       " 3684              0      43           75.35       3161.40\n",
       " 7017              0      51           20.65       1020.75\n",
       " ...             ...     ...             ...           ...\n",
       " 4356              0       3           18.80         56.00\n",
       " 5570              0      37           95.15       3532.85\n",
       " 2125              0      67           75.50       5229.45\n",
       " 5272              0       6           90.10        521.30\n",
       " 5455              0       6           19.70        129.55\n",
       " \n",
       " [2113 rows x 4 columns],\n",
       " 1479    0\n",
       " 2377    0\n",
       " 6613    0\n",
       " 6468    0\n",
       " 2668    1\n",
       "        ..\n",
       " 5218    0\n",
       " 4060    0\n",
       " 1346    1\n",
       " 3454    0\n",
       " 3582    0\n",
       " Name: Churn, Length: 4930, dtype: int64,\n",
       " 941     0\n",
       " 1404    0\n",
       " 5515    0\n",
       " 3684    0\n",
       " 7017    0\n",
       "        ..\n",
       " 4356    0\n",
       " 5570    0\n",
       " 2125    0\n",
       " 5272    1\n",
       " 5455    0\n",
       " Name: Churn, Length: 2113, dtype: int64)"
      ]
     },
     "execution_count": 79,
     "metadata": {},
     "output_type": "execute_result"
    }
   ],
   "source": [
    "from sklearn.model_selection import train_test_split\n",
    "\n",
    "x=churnData_new.drop(['Churn'], axis=1)\n",
    "y=churnData_new.Churn\n",
    "\n",
    "x_train, x_test, y_train, y_test=train_test_split(x, y, test_size=.30,random_state=123)\n",
    "x_train, x_test, y_train, y_test"
   ]
  },
  {
   "cell_type": "markdown",
   "id": "317b399e",
   "metadata": {},
   "source": [
    "#### Scale the features either by using normalizer or a standard scaler."
   ]
  },
  {
   "cell_type": "code",
   "execution_count": 80,
   "id": "a66da662",
   "metadata": {},
   "outputs": [],
   "source": [
    "from sklearn.preprocessing import StandardScaler\n",
    "\n",
    "std_scaler = StandardScaler().fit(x_train)  \n",
    "x_train_scaled = std_scaler.transform(x_train)\n",
    "x_test_scaled = std_scaler.transform(x_test)"
   ]
  },
  {
   "cell_type": "markdown",
   "id": "30d818c0",
   "metadata": {},
   "source": [
    "#### Fit a Knn Classifier(NOT KnnRegressor please!)model on the training data."
   ]
  },
  {
   "cell_type": "code",
   "execution_count": 81,
   "id": "7c0a076d",
   "metadata": {},
   "outputs": [
    {
     "data": {
      "text/plain": [
       "KNeighborsClassifier(n_neighbors=15)"
      ]
     },
     "execution_count": 81,
     "metadata": {},
     "output_type": "execute_result"
    }
   ],
   "source": [
    "from sklearn.neighbors import KNeighborsClassifier\n",
    "\n",
    "KNNClass = KNeighborsClassifier(n_neighbors=15)\n",
    "KNNClass.fit(x_train_scaled, y_train)\n",
    "y_pred=KNNClass.predict(x_test_scaled)\n",
    "y_pred_train=KNNClass.predict(x_train_scaled)\n",
    "\n",
    "KNNClass"
   ]
  },
  {
   "cell_type": "code",
   "execution_count": 82,
   "id": "acee9b31",
   "metadata": {},
   "outputs": [
    {
     "data": {
      "text/plain": [
       "array([0, 0, 0, ..., 1, 0, 1])"
      ]
     },
     "execution_count": 82,
     "metadata": {},
     "output_type": "execute_result"
    }
   ],
   "source": [
    "y_pred_train"
   ]
  },
  {
   "cell_type": "code",
   "execution_count": 83,
   "id": "22b7ee9f",
   "metadata": {},
   "outputs": [
    {
     "data": {
      "text/plain": [
       "941     0\n",
       "1404    0\n",
       "5515    0\n",
       "3684    0\n",
       "7017    0\n",
       "       ..\n",
       "4356    0\n",
       "5570    0\n",
       "2125    0\n",
       "5272    1\n",
       "5455    0\n",
       "Name: Churn, Length: 2113, dtype: int64"
      ]
     },
     "execution_count": 83,
     "metadata": {},
     "output_type": "execute_result"
    }
   ],
   "source": [
    "y_test"
   ]
  },
  {
   "cell_type": "code",
   "execution_count": 84,
   "id": "2349568e",
   "metadata": {},
   "outputs": [
    {
     "name": "stderr",
     "output_type": "stream",
     "text": [
      "/opt/anaconda3/envs/DA_env/lib/python3.9/site-packages/sklearn/utils/deprecation.py:87: FutureWarning: Function plot_confusion_matrix is deprecated; Function `plot_confusion_matrix` is deprecated in 1.0 and will be removed in 1.2. Use one of the class methods: ConfusionMatrixDisplay.from_predictions or ConfusionMatrixDisplay.from_estimator.\n",
      "  warnings.warn(msg, category=FutureWarning)\n",
      "/opt/anaconda3/envs/DA_env/lib/python3.9/site-packages/sklearn/utils/deprecation.py:87: FutureWarning: Function plot_confusion_matrix is deprecated; Function `plot_confusion_matrix` is deprecated in 1.0 and will be removed in 1.2. Use one of the class methods: ConfusionMatrixDisplay.from_predictions or ConfusionMatrixDisplay.from_estimator.\n",
      "  warnings.warn(msg, category=FutureWarning)\n"
     ]
    },
    {
     "data": {
      "image/png": "[encoded data removed]",
      "text/plain": [
       "<Figure size 1008x576 with 4 Axes>"
      ]
     },
     "metadata": {
      "needs_background": "light"
     },
     "output_type": "display_data"
    }
   ],
   "source": [
    "from sklearn.metrics import plot_confusion_matrix\n",
    "\n",
    "fig, ax = plt.subplots(1,2, figsize=(14,8))\n",
    "\n",
    "plot_confusion_matrix(KNNClass,x_train_scaled,y_train,ax=ax[0], values_format = 'd')\n",
    "ax[0].title.set_text(\"Train Set\")\n",
    "\n",
    "plot_confusion_matrix(KNNClass,x_test_scaled,y_test,ax=ax[1],values_format = 'd')\n",
    "ax[1].title.set_text(\"Test Set\")"
   ]
  },
  {
   "cell_type": "markdown",
   "id": "2886414e",
   "metadata": {},
   "source": [
    "## Round 2"
   ]
  },
  {
   "cell_type": "markdown",
   "id": "67d85057",
   "metadata": {},
   "source": [
    "### Fit a Decision Tree Classifier on the training data."
   ]
  },
  {
   "cell_type": "code",
   "execution_count": 85,
   "id": "6e8da1a3",
   "metadata": {},
   "outputs": [],
   "source": [
    "from sklearn.tree import DecisionTreeRegressor\n",
    "from sklearn.tree import DecisionTreeClassifier\n",
    "\n",
    "tree = DecisionTreeClassifier(max_depth=10)"
   ]
  },
  {
   "cell_type": "markdown",
   "id": "8468f79d",
   "metadata": {},
   "source": [
    "### Check the accuracy on the test data."
   ]
  },
  {
   "cell_type": "code",
   "execution_count": 86,
   "id": "4826951e",
   "metadata": {},
   "outputs": [
    {
     "data": {
      "text/html": [
       "<div>\n",
       "<style scoped>\n",
       "    .dataframe tbody tr th:only-of-type {\n",
       "        vertical-align: middle;\n",
       "    }\n",
       "\n",
       "    .dataframe tbody tr th {\n",
       "        vertical-align: top;\n",
       "    }\n",
       "\n",
       "    .dataframe thead th {\n",
       "        text-align: right;\n",
       "    }\n",
       "</style>\n",
       "<table border=\"1\" class=\"dataframe\">\n",
       "  <thead>\n",
       "    <tr style=\"text-align: right;\">\n",
       "      <th></th>\n",
       "      <th>Error_metric</th>\n",
       "      <th>Train</th>\n",
       "      <th>Test</th>\n",
       "    </tr>\n",
       "  </thead>\n",
       "  <tbody>\n",
       "    <tr>\n",
       "      <th>0</th>\n",
       "      <td>Accuracy</td>\n",
       "      <td>0.873631</td>\n",
       "      <td>0.743019</td>\n",
       "    </tr>\n",
       "    <tr>\n",
       "      <th>1</th>\n",
       "      <td>Precision</td>\n",
       "      <td>0.794434</td>\n",
       "      <td>0.551648</td>\n",
       "    </tr>\n",
       "    <tr>\n",
       "      <th>2</th>\n",
       "      <td>Recall</td>\n",
       "      <td>0.691947</td>\n",
       "      <td>0.425424</td>\n",
       "    </tr>\n",
       "  </tbody>\n",
       "</table>\n",
       "</div>"
      ],
      "text/plain": [
       "  Error_metric     Train      Test\n",
       "0     Accuracy  0.873631  0.743019\n",
       "1    Precision  0.794434  0.551648\n",
       "2       Recall  0.691947  0.425424"
      ]
     },
     "metadata": {},
     "output_type": "display_data"
    },
    {
     "data": {
      "image/png": "[encoded data removed]",
      "text/plain": [
       "<Figure size 1008x576 with 2 Axes>"
      ]
     },
     "metadata": {
      "needs_background": "light"
     },
     "output_type": "display_data"
    }
   ],
   "source": [
    "from sklearn.metrics import accuracy_score, precision_score, recall_score, confusion_matrix\n",
    "from sklearn.metrics import plot_confusion_matrix\n",
    "\n",
    "tree.fit(x_train, y_train)\n",
    "\n",
    "y_pred_train_dt = tree.predict(x_train)\n",
    "y_pred_test_dt = tree.predict(x_test)\n",
    "\n",
    "#Check performance of decision tree\n",
    "performance_df = pd.DataFrame({'Error_metric': ['Accuracy','Precision','Recall'],\n",
    "                               'Train': [accuracy_score(y_train, y_pred_train_dt),\n",
    "                                         precision_score(y_train, y_pred_train_dt),\n",
    "                                         recall_score(y_train, y_pred_train_dt)],\n",
    "                               'Test': [accuracy_score(y_test, y_pred_test_dt),\n",
    "                                        precision_score(y_test, y_pred_test_dt),\n",
    "                                        recall_score(y_test, y_pred_test_dt)]})\n",
    "\n",
    "display(performance_df)\n",
    "\n",
    "fig, ax = plt.subplots(1,2, figsize=(14,8))\n"
   ]
  },
  {
   "cell_type": "code",
   "execution_count": 93,
   "id": "5e46581b",
   "metadata": {},
   "outputs": [
    {
     "data": {
      "image/png": "[encoded data removed]",
      "text/plain": [
       "<Figure size 2448x1440 with 1 Axes>"
      ]
     },
     "metadata": {
      "needs_background": "light"
     },
     "output_type": "display_data"
    }
   ],
   "source": [
    "from sklearn.tree import plot_tree\n",
    "\n",
    "fig, axes = plt.subplots(nrows = 1,ncols = 1,figsize = (34,20))\n",
    "\n",
    "plot_tree(tree,filled = True, rounded=True,feature_names=x_train.columns)\n",
    "plt.show() "
   ]
  },
  {
   "cell_type": "markdown",
   "id": "d139cf64",
   "metadata": {},
   "source": [
    "## Round 3"
   ]
  },
  {
   "cell_type": "markdown",
   "id": "b93b85bd",
   "metadata": {},
   "source": [
    "### apply K-fold cross validation on your models before and check the model score. Note: So far we have not balanced the data."
   ]
  },
  {
   "cell_type": "code",
   "execution_count": 96,
   "id": "9b631b39",
   "metadata": {},
   "outputs": [],
   "source": [
    "from sklearn. model_selection import cross_val_score \n",
    "from sklearn.linear_model import LogisticRegression\n",
    "\n",
    "modelli = {\n",
    "    \n",
    "    \"LogR\": LogisticRegression(random_state=0),\n",
    "    \"KNeighborsClass\":KNeighborsClassifier(n_neighbors=2),\n",
    "    \"DecisionTreeClassifier\":DecisionTreeClassifier(max_depth=10)\n",
    "} \n",
    "\n",
    "def cross_val(dict_models, X_train, y_train):\n",
    "    for model , model_inst in dict_models.items():\n",
    "        scores = cross_val_score(model_inst, x_train, y_train, cv=5) # cv = number of folds, or K\n",
    "        print(f\"{model_inst.__class__.__name__}: Scores -> {scores} ,ScoresMean -> {scores.mean()},ScoresStd -> {scores.std()}\") #capting the 80% of variance in the mod\n",
    "        "
   ]
  },
  {
   "cell_type": "code",
   "execution_count": 97,
   "id": "27188043",
   "metadata": {},
   "outputs": [
    {
     "name": "stdout",
     "output_type": "stream",
     "text": [
      "LogisticRegression: Scores -> [0.79918864 0.80223124 0.78701826 0.79411765 0.80324544] ,ScoresMean -> 0.7971602434077079,ScoresStd -> 0.0059829132672424455\n",
      "KNeighborsClassifier: Scores -> [0.76470588 0.76572008 0.75456389 0.76369168 0.77180527] ,ScoresMean -> 0.7640973630831642,ScoresStd -> 0.005540162386915861\n",
      "DecisionTreeClassifier: Scores -> [0.76470588 0.78600406 0.7484787  0.74442191 0.76369168] ,ScoresMean -> 0.7614604462474646,ScoresStd -> 0.014674723933213734\n"
     ]
    }
   ],
   "source": [
    "cross_val(modelli, x_train, y_train)"
   ]
  },
  {
   "cell_type": "markdown",
   "id": "ede60056",
   "metadata": {},
   "source": [
    "### Managing imbalance in the dataset\n",
    "\n",
    "Check for the imbalance.\n",
    "Use the resampling strategies used in class for upsampling and downsampling to create a balance between the two classes.\n",
    "Each time fit the model and see how the accuracy of the model is."
   ]
  },
  {
   "cell_type": "code",
   "execution_count": 98,
   "id": "b1e50279",
   "metadata": {},
   "outputs": [
    {
     "data": {
      "text/plain": [
       "0    5174\n",
       "1    1869\n",
       "Name: Churn, dtype: int64"
      ]
     },
     "execution_count": 98,
     "metadata": {},
     "output_type": "execute_result"
    }
   ],
   "source": [
    "churnData_new[\"Churn\"].value_counts()"
   ]
  },
  {
   "cell_type": "code",
   "execution_count": 99,
   "id": "a1ecec25",
   "metadata": {},
   "outputs": [
    {
     "data": {
      "text/plain": [
       "0.7346301292063041"
      ]
     },
     "execution_count": 99,
     "metadata": {},
     "output_type": "execute_result"
    }
   ],
   "source": [
    "5174/len(churnData_new['Churn'])"
   ]
  },
  {
   "cell_type": "markdown",
   "id": "cf741a25",
   "metadata": {},
   "source": [
    "#### Downsampling"
   ]
  },
  {
   "cell_type": "code",
   "execution_count": 100,
   "id": "53b936be",
   "metadata": {},
   "outputs": [
    {
     "name": "stdout",
     "output_type": "stream",
     "text": [
      "(5174, 5)\n",
      "(1869, 5)\n"
     ]
    }
   ],
   "source": [
    "category_0 = churnData_new[churnData_new['Churn'] == 0]\n",
    "category_1 = churnData_new[churnData_new['Churn'] == 1]\n",
    "print(category_0.shape)\n",
    "print(category_1.shape)"
   ]
  },
  {
   "cell_type": "code",
   "execution_count": 101,
   "id": "be721677",
   "metadata": {},
   "outputs": [
    {
     "name": "stdout",
     "output_type": "stream",
     "text": [
      "(1869, 5)\n",
      "(1869, 5)\n"
     ]
    }
   ],
   "source": [
    "category_0_down = category_0.sample(len(category_1))\n",
    "print(category_0_down.shape)\n",
    "print(category_1.shape)"
   ]
  },
  {
   "cell_type": "code",
   "execution_count": 102,
   "id": "e6446d48",
   "metadata": {},
   "outputs": [
    {
     "data": {
      "text/plain": [
       "1    1869\n",
       "0    1869\n",
       "Name: Churn, dtype: int64"
      ]
     },
     "execution_count": 102,
     "metadata": {},
     "output_type": "execute_result"
    }
   ],
   "source": [
    "df_down = pd.concat([category_0_down, category_1], axis=0)\n",
    "#shuffling the data\n",
    "df_down = df_down.sample(frac=1)\n",
    "df_down['Churn'].value_counts()"
   ]
  },
  {
   "cell_type": "markdown",
   "id": "3eb9d475",
   "metadata": {},
   "source": [
    "#### Upsampling"
   ]
  },
  {
   "cell_type": "code",
   "execution_count": 103,
   "id": "8a1f31be",
   "metadata": {},
   "outputs": [],
   "source": [
    "df_up = churnData_new.drop(['Churn'], axis=1)\n",
    "category_0 = df[df['Churn'] == 0]\n",
    "category_1 = df[df['Churn'] == 1]"
   ]
  },
  {
   "cell_type": "code",
   "execution_count": 104,
   "id": "1002dacd",
   "metadata": {},
   "outputs": [
    {
     "name": "stdout",
     "output_type": "stream",
     "text": [
      "(5174, 16)\n"
     ]
    }
   ],
   "source": [
    "category_1_up = category_1.sample(len(category_0), replace=True)\n",
    "print(category_1_up.shape)"
   ]
  },
  {
   "cell_type": "code",
   "execution_count": 105,
   "id": "e252d765",
   "metadata": {},
   "outputs": [
    {
     "data": {
      "text/html": [
       "<div>\n",
       "<style scoped>\n",
       "    .dataframe tbody tr th:only-of-type {\n",
       "        vertical-align: middle;\n",
       "    }\n",
       "\n",
       "    .dataframe tbody tr th {\n",
       "        vertical-align: top;\n",
       "    }\n",
       "\n",
       "    .dataframe thead th {\n",
       "        text-align: right;\n",
       "    }\n",
       "</style>\n",
       "<table border=\"1\" class=\"dataframe\">\n",
       "  <thead>\n",
       "    <tr style=\"text-align: right;\">\n",
       "      <th></th>\n",
       "      <th>gender</th>\n",
       "      <th>SeniorCitizen</th>\n",
       "      <th>Partner</th>\n",
       "      <th>Dependents</th>\n",
       "      <th>tenure</th>\n",
       "      <th>PhoneService</th>\n",
       "      <th>OnlineSecurity</th>\n",
       "      <th>OnlineBackup</th>\n",
       "      <th>DeviceProtection</th>\n",
       "      <th>TechSupport</th>\n",
       "      <th>StreamingTV</th>\n",
       "      <th>StreamingMovies</th>\n",
       "      <th>Contract</th>\n",
       "      <th>MonthlyCharges</th>\n",
       "      <th>TotalCharges</th>\n",
       "      <th>Churn</th>\n",
       "    </tr>\n",
       "  </thead>\n",
       "  <tbody>\n",
       "    <tr>\n",
       "      <th>5450</th>\n",
       "      <td>Male</td>\n",
       "      <td>0</td>\n",
       "      <td>No</td>\n",
       "      <td>No</td>\n",
       "      <td>1</td>\n",
       "      <td>Yes</td>\n",
       "      <td>No</td>\n",
       "      <td>No</td>\n",
       "      <td>No</td>\n",
       "      <td>No</td>\n",
       "      <td>Yes</td>\n",
       "      <td>No</td>\n",
       "      <td>Month-to-month</td>\n",
       "      <td>84.65</td>\n",
       "      <td>84.65</td>\n",
       "      <td>1</td>\n",
       "    </tr>\n",
       "    <tr>\n",
       "      <th>1132</th>\n",
       "      <td>Female</td>\n",
       "      <td>1</td>\n",
       "      <td>Yes</td>\n",
       "      <td>No</td>\n",
       "      <td>11</td>\n",
       "      <td>Yes</td>\n",
       "      <td>No</td>\n",
       "      <td>No</td>\n",
       "      <td>Yes</td>\n",
       "      <td>Yes</td>\n",
       "      <td>Yes</td>\n",
       "      <td>Yes</td>\n",
       "      <td>Month-to-month</td>\n",
       "      <td>104.05</td>\n",
       "      <td>1133.65</td>\n",
       "      <td>1</td>\n",
       "    </tr>\n",
       "    <tr>\n",
       "      <th>630</th>\n",
       "      <td>Male</td>\n",
       "      <td>1</td>\n",
       "      <td>Yes</td>\n",
       "      <td>Yes</td>\n",
       "      <td>43</td>\n",
       "      <td>Yes</td>\n",
       "      <td>No</td>\n",
       "      <td>Yes</td>\n",
       "      <td>Yes</td>\n",
       "      <td>Yes</td>\n",
       "      <td>Yes</td>\n",
       "      <td>Yes</td>\n",
       "      <td>Month-to-month</td>\n",
       "      <td>110.75</td>\n",
       "      <td>4687.90</td>\n",
       "      <td>1</td>\n",
       "    </tr>\n",
       "    <tr>\n",
       "      <th>2797</th>\n",
       "      <td>Male</td>\n",
       "      <td>0</td>\n",
       "      <td>No</td>\n",
       "      <td>No</td>\n",
       "      <td>3</td>\n",
       "      <td>Yes</td>\n",
       "      <td>No</td>\n",
       "      <td>No</td>\n",
       "      <td>Yes</td>\n",
       "      <td>No</td>\n",
       "      <td>Yes</td>\n",
       "      <td>Yes</td>\n",
       "      <td>Month-to-month</td>\n",
       "      <td>100.95</td>\n",
       "      <td>329.95</td>\n",
       "      <td>1</td>\n",
       "    </tr>\n",
       "    <tr>\n",
       "      <th>248</th>\n",
       "      <td>Male</td>\n",
       "      <td>0</td>\n",
       "      <td>No</td>\n",
       "      <td>No</td>\n",
       "      <td>1</td>\n",
       "      <td>Yes</td>\n",
       "      <td>Yes</td>\n",
       "      <td>No</td>\n",
       "      <td>No</td>\n",
       "      <td>No</td>\n",
       "      <td>No</td>\n",
       "      <td>No</td>\n",
       "      <td>Month-to-month</td>\n",
       "      <td>48.55</td>\n",
       "      <td>48.55</td>\n",
       "      <td>1</td>\n",
       "    </tr>\n",
       "    <tr>\n",
       "      <th>...</th>\n",
       "      <td>...</td>\n",
       "      <td>...</td>\n",
       "      <td>...</td>\n",
       "      <td>...</td>\n",
       "      <td>...</td>\n",
       "      <td>...</td>\n",
       "      <td>...</td>\n",
       "      <td>...</td>\n",
       "      <td>...</td>\n",
       "      <td>...</td>\n",
       "      <td>...</td>\n",
       "      <td>...</td>\n",
       "      <td>...</td>\n",
       "      <td>...</td>\n",
       "      <td>...</td>\n",
       "      <td>...</td>\n",
       "    </tr>\n",
       "    <tr>\n",
       "      <th>4513</th>\n",
       "      <td>Female</td>\n",
       "      <td>1</td>\n",
       "      <td>Yes</td>\n",
       "      <td>Yes</td>\n",
       "      <td>72</td>\n",
       "      <td>Yes</td>\n",
       "      <td>Yes</td>\n",
       "      <td>Yes</td>\n",
       "      <td>Yes</td>\n",
       "      <td>Yes</td>\n",
       "      <td>Yes</td>\n",
       "      <td>Yes</td>\n",
       "      <td>Two year</td>\n",
       "      <td>92.45</td>\n",
       "      <td>6440.25</td>\n",
       "      <td>1</td>\n",
       "    </tr>\n",
       "    <tr>\n",
       "      <th>177</th>\n",
       "      <td>Female</td>\n",
       "      <td>1</td>\n",
       "      <td>No</td>\n",
       "      <td>No</td>\n",
       "      <td>7</td>\n",
       "      <td>Yes</td>\n",
       "      <td>Yes</td>\n",
       "      <td>No</td>\n",
       "      <td>No</td>\n",
       "      <td>No</td>\n",
       "      <td>No</td>\n",
       "      <td>No</td>\n",
       "      <td>Month-to-month</td>\n",
       "      <td>76.45</td>\n",
       "      <td>503.60</td>\n",
       "      <td>1</td>\n",
       "    </tr>\n",
       "    <tr>\n",
       "      <th>1519</th>\n",
       "      <td>Female</td>\n",
       "      <td>0</td>\n",
       "      <td>No</td>\n",
       "      <td>No</td>\n",
       "      <td>2</td>\n",
       "      <td>No</td>\n",
       "      <td>Yes</td>\n",
       "      <td>Yes</td>\n",
       "      <td>No</td>\n",
       "      <td>No</td>\n",
       "      <td>No</td>\n",
       "      <td>Yes</td>\n",
       "      <td>Month-to-month</td>\n",
       "      <td>42.60</td>\n",
       "      <td>72.40</td>\n",
       "      <td>1</td>\n",
       "    </tr>\n",
       "    <tr>\n",
       "      <th>492</th>\n",
       "      <td>Female</td>\n",
       "      <td>0</td>\n",
       "      <td>Yes</td>\n",
       "      <td>No</td>\n",
       "      <td>2</td>\n",
       "      <td>Yes</td>\n",
       "      <td>Yes</td>\n",
       "      <td>No</td>\n",
       "      <td>No</td>\n",
       "      <td>No</td>\n",
       "      <td>No</td>\n",
       "      <td>No</td>\n",
       "      <td>Month-to-month</td>\n",
       "      <td>74.40</td>\n",
       "      <td>139.40</td>\n",
       "      <td>1</td>\n",
       "    </tr>\n",
       "    <tr>\n",
       "      <th>5556</th>\n",
       "      <td>Male</td>\n",
       "      <td>0</td>\n",
       "      <td>No</td>\n",
       "      <td>No</td>\n",
       "      <td>13</td>\n",
       "      <td>Yes</td>\n",
       "      <td>No</td>\n",
       "      <td>Yes</td>\n",
       "      <td>Yes</td>\n",
       "      <td>No</td>\n",
       "      <td>No</td>\n",
       "      <td>No</td>\n",
       "      <td>Month-to-month</td>\n",
       "      <td>79.80</td>\n",
       "      <td>973.45</td>\n",
       "      <td>1</td>\n",
       "    </tr>\n",
       "  </tbody>\n",
       "</table>\n",
       "<p>5174 rows × 16 columns</p>\n",
       "</div>"
      ],
      "text/plain": [
       "      gender  SeniorCitizen Partner Dependents  tenure PhoneService  \\\n",
       "5450    Male              0      No         No       1          Yes   \n",
       "1132  Female              1     Yes         No      11          Yes   \n",
       "630     Male              1     Yes        Yes      43          Yes   \n",
       "2797    Male              0      No         No       3          Yes   \n",
       "248     Male              0      No         No       1          Yes   \n",
       "...      ...            ...     ...        ...     ...          ...   \n",
       "4513  Female              1     Yes        Yes      72          Yes   \n",
       "177   Female              1      No         No       7          Yes   \n",
       "1519  Female              0      No         No       2           No   \n",
       "492   Female              0     Yes         No       2          Yes   \n",
       "5556    Male              0      No         No      13          Yes   \n",
       "\n",
       "     OnlineSecurity OnlineBackup DeviceProtection TechSupport StreamingTV  \\\n",
       "5450             No           No               No          No         Yes   \n",
       "1132             No           No              Yes         Yes         Yes   \n",
       "630              No          Yes              Yes         Yes         Yes   \n",
       "2797             No           No              Yes          No         Yes   \n",
       "248             Yes           No               No          No          No   \n",
       "...             ...          ...              ...         ...         ...   \n",
       "4513            Yes          Yes              Yes         Yes         Yes   \n",
       "177             Yes           No               No          No          No   \n",
       "1519            Yes          Yes               No          No          No   \n",
       "492             Yes           No               No          No          No   \n",
       "5556             No          Yes              Yes          No          No   \n",
       "\n",
       "     StreamingMovies        Contract  MonthlyCharges  TotalCharges  Churn  \n",
       "5450              No  Month-to-month           84.65         84.65      1  \n",
       "1132             Yes  Month-to-month          104.05       1133.65      1  \n",
       "630              Yes  Month-to-month          110.75       4687.90      1  \n",
       "2797             Yes  Month-to-month          100.95        329.95      1  \n",
       "248               No  Month-to-month           48.55         48.55      1  \n",
       "...              ...             ...             ...           ...    ...  \n",
       "4513             Yes        Two year           92.45       6440.25      1  \n",
       "177               No  Month-to-month           76.45        503.60      1  \n",
       "1519             Yes  Month-to-month           42.60         72.40      1  \n",
       "492               No  Month-to-month           74.40        139.40      1  \n",
       "5556              No  Month-to-month           79.80        973.45      1  \n",
       "\n",
       "[5174 rows x 16 columns]"
      ]
     },
     "execution_count": 105,
     "metadata": {},
     "output_type": "execute_result"
    }
   ],
   "source": [
    "category_1_up"
   ]
  },
  {
   "cell_type": "code",
   "execution_count": 106,
   "id": "315225ac",
   "metadata": {},
   "outputs": [
    {
     "data": {
      "text/plain": [
       "1    5174\n",
       "0    5174\n",
       "Name: Churn, dtype: int64"
      ]
     },
     "execution_count": 106,
     "metadata": {},
     "output_type": "execute_result"
    }
   ],
   "source": [
    "df_up = pd.concat([category_0, category_1_up], axis=0)\n",
    "#shuffling the data\n",
    "df_up = df_up.sample(frac=1)\n",
    "df_up['Churn'].value_counts()"
   ]
  },
  {
   "cell_type": "code",
   "execution_count": 107,
   "id": "c30b8fb4",
   "metadata": {},
   "outputs": [
    {
     "data": {
      "text/plain": [
       "(5174, 16)"
      ]
     },
     "execution_count": 107,
     "metadata": {},
     "output_type": "execute_result"
    }
   ],
   "source": [
    "category_1_up.shape"
   ]
  },
  {
   "cell_type": "markdown",
   "id": "a8c5a05b",
   "metadata": {},
   "source": [
    "#### SMOTE"
   ]
  },
  {
   "cell_type": "code",
   "execution_count": 108,
   "id": "39fee589",
   "metadata": {},
   "outputs": [
    {
     "data": {
      "text/plain": [
       "0    5174\n",
       "1    5174\n",
       "Name: Churn, dtype: int64"
      ]
     },
     "execution_count": 108,
     "metadata": {},
     "output_type": "execute_result"
    }
   ],
   "source": [
    "from imblearn.over_sampling import SMOTE\n",
    "smote = SMOTE()\n",
    "df_smote = df_down.drop(['Churn'], axis=1)\n",
    "y = churnData_new['Churn']\n",
    "x = churnData_new.drop(['Churn'], axis=1)\n",
    "x_sm, y_sm = smote.fit_resample(x, y)\n",
    "y_sm.value_counts()"
   ]
  },
  {
   "cell_type": "markdown",
   "id": "eeabf5fc",
   "metadata": {},
   "source": [
    "## Round 4"
   ]
  },
  {
   "cell_type": "markdown",
   "id": "d288dcd4",
   "metadata": {},
   "source": [
    "### fit a Random forest Classifier on the data and compare the accuracy."
   ]
  },
  {
   "cell_type": "code",
   "execution_count": 110,
   "id": "d35d3ba1",
   "metadata": {},
   "outputs": [
    {
     "name": "stdout",
     "output_type": "stream",
     "text": [
      "0.8150101419878296\n",
      "0.7704685281590156\n"
     ]
    }
   ],
   "source": [
    "from sklearn.ensemble import RandomForestClassifier\n",
    "\n",
    "clf = RandomForestClassifier(max_depth=6,min_samples_leaf=20,max_features=None,n_estimators=100,\n",
    "                             bootstrap=True,oob_score=True, random_state=0)\n",
    "clf.fit(x_train, y_train)\n",
    "print(clf.score(x_train, y_train))\n",
    "print(clf.score(x_test, y_test))"
   ]
  },
  {
   "cell_type": "code",
   "execution_count": 111,
   "id": "447817d1",
   "metadata": {},
   "outputs": [
    {
     "data": {
      "text/plain": [
       "array([0.79817444, 0.80933063, 0.78194726, 0.79310345, 0.79918864])"
      ]
     },
     "execution_count": 111,
     "metadata": {},
     "output_type": "execute_result"
    }
   ],
   "source": [
    "cross_val_scores = cross_val_score(clf, x_train, y_train, cv=5)\n",
    "cross_val_scores"
   ]
  },
  {
   "cell_type": "code",
   "execution_count": 112,
   "id": "d9b751e5",
   "metadata": {},
   "outputs": [
    {
     "data": {
      "text/plain": [
       "0.008920338104379737"
      ]
     },
     "execution_count": 112,
     "metadata": {},
     "output_type": "execute_result"
    }
   ],
   "source": [
    "np.std(cross_val_scores)"
   ]
  },
  {
   "cell_type": "markdown",
   "id": "568f7682",
   "metadata": {},
   "source": [
    "### tune the hyper paramters with gridsearch and check the results."
   ]
  },
  {
   "cell_type": "code",
   "execution_count": 113,
   "id": "c992b6b3",
   "metadata": {},
   "outputs": [],
   "source": [
    "from sklearn.model_selection import GridSearchCV\n",
    "param_grid = {\n",
    "    'n_estimators': [50, 100,500],\n",
    "    'min_samples_split': [2, 4],\n",
    "    'min_samples_leaf' : [1, 2],\n",
    "    'max_features': ['sqrt']\n",
    "    }\n",
    "clf = RandomForestClassifier(random_state=100)"
   ]
  },
  {
   "cell_type": "code",
   "execution_count": 114,
   "id": "08905059",
   "metadata": {},
   "outputs": [
    {
     "data": {
      "text/plain": [
       "GridSearchCV(cv=5, estimator=RandomForestClassifier(random_state=100),\n",
       "             n_jobs=-1,\n",
       "             param_grid={'max_features': ['sqrt'], 'min_samples_leaf': [1, 2],\n",
       "                         'min_samples_split': [2, 4],\n",
       "                         'n_estimators': [50, 100, 500]},\n",
       "             return_train_score=True)"
      ]
     },
     "execution_count": 114,
     "metadata": {},
     "output_type": "execute_result"
    }
   ],
   "source": [
    "grid_search = GridSearchCV(clf, param_grid, cv=5,return_train_score=True,n_jobs=-1,)\n",
    "grid_search.fit(x_train,y_train)"
   ]
  },
  {
   "cell_type": "code",
   "execution_count": 115,
   "id": "6859399b",
   "metadata": {},
   "outputs": [
    {
     "data": {
      "text/plain": [
       "{'max_features': 'sqrt',\n",
       " 'min_samples_leaf': 2,\n",
       " 'min_samples_split': 2,\n",
       " 'n_estimators': 100}"
      ]
     },
     "execution_count": 115,
     "metadata": {},
     "output_type": "execute_result"
    }
   ],
   "source": [
    "grid_search.best_params_"
   ]
  },
  {
   "cell_type": "code",
   "execution_count": 116,
   "id": "57b45f82",
   "metadata": {},
   "outputs": [
    {
     "data": {
      "text/html": [
       "<div>\n",
       "<style scoped>\n",
       "    .dataframe tbody tr th:only-of-type {\n",
       "        vertical-align: middle;\n",
       "    }\n",
       "\n",
       "    .dataframe tbody tr th {\n",
       "        vertical-align: top;\n",
       "    }\n",
       "\n",
       "    .dataframe thead th {\n",
       "        text-align: right;\n",
       "    }\n",
       "</style>\n",
       "<table border=\"1\" class=\"dataframe\">\n",
       "  <thead>\n",
       "    <tr style=\"text-align: right;\">\n",
       "      <th></th>\n",
       "      <th>mean_fit_time</th>\n",
       "      <th>std_fit_time</th>\n",
       "      <th>mean_score_time</th>\n",
       "      <th>std_score_time</th>\n",
       "      <th>param_max_features</th>\n",
       "      <th>param_min_samples_leaf</th>\n",
       "      <th>param_min_samples_split</th>\n",
       "      <th>param_n_estimators</th>\n",
       "      <th>params</th>\n",
       "      <th>split0_test_score</th>\n",
       "      <th>...</th>\n",
       "      <th>mean_test_score</th>\n",
       "      <th>std_test_score</th>\n",
       "      <th>rank_test_score</th>\n",
       "      <th>split0_train_score</th>\n",
       "      <th>split1_train_score</th>\n",
       "      <th>split2_train_score</th>\n",
       "      <th>split3_train_score</th>\n",
       "      <th>split4_train_score</th>\n",
       "      <th>mean_train_score</th>\n",
       "      <th>std_train_score</th>\n",
       "    </tr>\n",
       "  </thead>\n",
       "  <tbody>\n",
       "    <tr>\n",
       "      <th>0</th>\n",
       "      <td>0.261925</td>\n",
       "      <td>0.007353</td>\n",
       "      <td>0.011894</td>\n",
       "      <td>0.002969</td>\n",
       "      <td>sqrt</td>\n",
       "      <td>1</td>\n",
       "      <td>2</td>\n",
       "      <td>50</td>\n",
       "      <td>{'max_features': 'sqrt', 'min_samples_leaf': 1...</td>\n",
       "      <td>0.770791</td>\n",
       "      <td>...</td>\n",
       "      <td>0.771197</td>\n",
       "      <td>0.013310</td>\n",
       "      <td>12</td>\n",
       "      <td>0.990872</td>\n",
       "      <td>0.988590</td>\n",
       "      <td>0.990872</td>\n",
       "      <td>0.993154</td>\n",
       "      <td>0.989351</td>\n",
       "      <td>0.990568</td>\n",
       "      <td>0.001566</td>\n",
       "    </tr>\n",
       "    <tr>\n",
       "      <th>1</th>\n",
       "      <td>0.527192</td>\n",
       "      <td>0.031338</td>\n",
       "      <td>0.024988</td>\n",
       "      <td>0.003869</td>\n",
       "      <td>sqrt</td>\n",
       "      <td>1</td>\n",
       "      <td>2</td>\n",
       "      <td>100</td>\n",
       "      <td>{'max_features': 'sqrt', 'min_samples_leaf': 1...</td>\n",
       "      <td>0.778905</td>\n",
       "      <td>...</td>\n",
       "      <td>0.774442</td>\n",
       "      <td>0.012918</td>\n",
       "      <td>10</td>\n",
       "      <td>0.991126</td>\n",
       "      <td>0.989604</td>\n",
       "      <td>0.992140</td>\n",
       "      <td>0.993408</td>\n",
       "      <td>0.989604</td>\n",
       "      <td>0.991176</td>\n",
       "      <td>0.001473</td>\n",
       "    </tr>\n",
       "    <tr>\n",
       "      <th>2</th>\n",
       "      <td>2.691831</td>\n",
       "      <td>0.084308</td>\n",
       "      <td>0.120545</td>\n",
       "      <td>0.004378</td>\n",
       "      <td>sqrt</td>\n",
       "      <td>1</td>\n",
       "      <td>2</td>\n",
       "      <td>500</td>\n",
       "      <td>{'max_features': 'sqrt', 'min_samples_leaf': 1...</td>\n",
       "      <td>0.779919</td>\n",
       "      <td>...</td>\n",
       "      <td>0.774239</td>\n",
       "      <td>0.013341</td>\n",
       "      <td>11</td>\n",
       "      <td>0.991633</td>\n",
       "      <td>0.989858</td>\n",
       "      <td>0.992140</td>\n",
       "      <td>0.993408</td>\n",
       "      <td>0.989604</td>\n",
       "      <td>0.991329</td>\n",
       "      <td>0.001429</td>\n",
       "    </tr>\n",
       "    <tr>\n",
       "      <th>3</th>\n",
       "      <td>0.281045</td>\n",
       "      <td>0.010462</td>\n",
       "      <td>0.014816</td>\n",
       "      <td>0.002048</td>\n",
       "      <td>sqrt</td>\n",
       "      <td>1</td>\n",
       "      <td>4</td>\n",
       "      <td>50</td>\n",
       "      <td>{'max_features': 'sqrt', 'min_samples_leaf': 1...</td>\n",
       "      <td>0.784990</td>\n",
       "      <td>...</td>\n",
       "      <td>0.778296</td>\n",
       "      <td>0.014775</td>\n",
       "      <td>9</td>\n",
       "      <td>0.970081</td>\n",
       "      <td>0.967799</td>\n",
       "      <td>0.970842</td>\n",
       "      <td>0.971349</td>\n",
       "      <td>0.967546</td>\n",
       "      <td>0.969523</td>\n",
       "      <td>0.001566</td>\n",
       "    </tr>\n",
       "    <tr>\n",
       "      <th>4</th>\n",
       "      <td>0.516044</td>\n",
       "      <td>0.013460</td>\n",
       "      <td>0.025650</td>\n",
       "      <td>0.004318</td>\n",
       "      <td>sqrt</td>\n",
       "      <td>1</td>\n",
       "      <td>4</td>\n",
       "      <td>100</td>\n",
       "      <td>{'max_features': 'sqrt', 'min_samples_leaf': 1...</td>\n",
       "      <td>0.779919</td>\n",
       "      <td>...</td>\n",
       "      <td>0.779919</td>\n",
       "      <td>0.013485</td>\n",
       "      <td>7</td>\n",
       "      <td>0.973377</td>\n",
       "      <td>0.971856</td>\n",
       "      <td>0.971856</td>\n",
       "      <td>0.974138</td>\n",
       "      <td>0.970335</td>\n",
       "      <td>0.972312</td>\n",
       "      <td>0.001326</td>\n",
       "    </tr>\n",
       "    <tr>\n",
       "      <th>5</th>\n",
       "      <td>2.626103</td>\n",
       "      <td>0.043054</td>\n",
       "      <td>0.112799</td>\n",
       "      <td>0.002658</td>\n",
       "      <td>sqrt</td>\n",
       "      <td>1</td>\n",
       "      <td>4</td>\n",
       "      <td>500</td>\n",
       "      <td>{'max_features': 'sqrt', 'min_samples_leaf': 1...</td>\n",
       "      <td>0.779919</td>\n",
       "      <td>...</td>\n",
       "      <td>0.779108</td>\n",
       "      <td>0.014952</td>\n",
       "      <td>8</td>\n",
       "      <td>0.979462</td>\n",
       "      <td>0.977434</td>\n",
       "      <td>0.978195</td>\n",
       "      <td>0.978955</td>\n",
       "      <td>0.975913</td>\n",
       "      <td>0.977992</td>\n",
       "      <td>0.001246</td>\n",
       "    </tr>\n",
       "    <tr>\n",
       "      <th>6</th>\n",
       "      <td>0.259316</td>\n",
       "      <td>0.016650</td>\n",
       "      <td>0.013465</td>\n",
       "      <td>0.002250</td>\n",
       "      <td>sqrt</td>\n",
       "      <td>2</td>\n",
       "      <td>2</td>\n",
       "      <td>50</td>\n",
       "      <td>{'max_features': 'sqrt', 'min_samples_leaf': 2...</td>\n",
       "      <td>0.781947</td>\n",
       "      <td>...</td>\n",
       "      <td>0.785193</td>\n",
       "      <td>0.009458</td>\n",
       "      <td>3</td>\n",
       "      <td>0.934838</td>\n",
       "      <td>0.931288</td>\n",
       "      <td>0.934584</td>\n",
       "      <td>0.933316</td>\n",
       "      <td>0.934331</td>\n",
       "      <td>0.933671</td>\n",
       "      <td>0.001299</td>\n",
       "    </tr>\n",
       "    <tr>\n",
       "      <th>7</th>\n",
       "      <td>0.531374</td>\n",
       "      <td>0.028465</td>\n",
       "      <td>0.025035</td>\n",
       "      <td>0.002250</td>\n",
       "      <td>sqrt</td>\n",
       "      <td>2</td>\n",
       "      <td>2</td>\n",
       "      <td>100</td>\n",
       "      <td>{'max_features': 'sqrt', 'min_samples_leaf': 2...</td>\n",
       "      <td>0.783976</td>\n",
       "      <td>...</td>\n",
       "      <td>0.786613</td>\n",
       "      <td>0.010878</td>\n",
       "      <td>1</td>\n",
       "      <td>0.931542</td>\n",
       "      <td>0.936359</td>\n",
       "      <td>0.936613</td>\n",
       "      <td>0.938387</td>\n",
       "      <td>0.935598</td>\n",
       "      <td>0.935700</td>\n",
       "      <td>0.002271</td>\n",
       "    </tr>\n",
       "    <tr>\n",
       "      <th>8</th>\n",
       "      <td>2.505975</td>\n",
       "      <td>0.073844</td>\n",
       "      <td>0.113883</td>\n",
       "      <td>0.007471</td>\n",
       "      <td>sqrt</td>\n",
       "      <td>2</td>\n",
       "      <td>2</td>\n",
       "      <td>500</td>\n",
       "      <td>{'max_features': 'sqrt', 'min_samples_leaf': 2...</td>\n",
       "      <td>0.778905</td>\n",
       "      <td>...</td>\n",
       "      <td>0.784787</td>\n",
       "      <td>0.013152</td>\n",
       "      <td>5</td>\n",
       "      <td>0.933316</td>\n",
       "      <td>0.934584</td>\n",
       "      <td>0.935091</td>\n",
       "      <td>0.939402</td>\n",
       "      <td>0.934331</td>\n",
       "      <td>0.935345</td>\n",
       "      <td>0.002109</td>\n",
       "    </tr>\n",
       "    <tr>\n",
       "      <th>9</th>\n",
       "      <td>0.260798</td>\n",
       "      <td>0.017206</td>\n",
       "      <td>0.011582</td>\n",
       "      <td>0.003276</td>\n",
       "      <td>sqrt</td>\n",
       "      <td>2</td>\n",
       "      <td>4</td>\n",
       "      <td>50</td>\n",
       "      <td>{'max_features': 'sqrt', 'min_samples_leaf': 2...</td>\n",
       "      <td>0.781947</td>\n",
       "      <td>...</td>\n",
       "      <td>0.785193</td>\n",
       "      <td>0.009458</td>\n",
       "      <td>3</td>\n",
       "      <td>0.934838</td>\n",
       "      <td>0.931288</td>\n",
       "      <td>0.934584</td>\n",
       "      <td>0.933316</td>\n",
       "      <td>0.934331</td>\n",
       "      <td>0.933671</td>\n",
       "      <td>0.001299</td>\n",
       "    </tr>\n",
       "    <tr>\n",
       "      <th>10</th>\n",
       "      <td>0.528556</td>\n",
       "      <td>0.011798</td>\n",
       "      <td>0.026463</td>\n",
       "      <td>0.004405</td>\n",
       "      <td>sqrt</td>\n",
       "      <td>2</td>\n",
       "      <td>4</td>\n",
       "      <td>100</td>\n",
       "      <td>{'max_features': 'sqrt', 'min_samples_leaf': 2...</td>\n",
       "      <td>0.783976</td>\n",
       "      <td>...</td>\n",
       "      <td>0.786613</td>\n",
       "      <td>0.010878</td>\n",
       "      <td>1</td>\n",
       "      <td>0.931542</td>\n",
       "      <td>0.936359</td>\n",
       "      <td>0.936613</td>\n",
       "      <td>0.938387</td>\n",
       "      <td>0.935598</td>\n",
       "      <td>0.935700</td>\n",
       "      <td>0.002271</td>\n",
       "    </tr>\n",
       "    <tr>\n",
       "      <th>11</th>\n",
       "      <td>2.082760</td>\n",
       "      <td>0.071447</td>\n",
       "      <td>0.083326</td>\n",
       "      <td>0.009183</td>\n",
       "      <td>sqrt</td>\n",
       "      <td>2</td>\n",
       "      <td>4</td>\n",
       "      <td>500</td>\n",
       "      <td>{'max_features': 'sqrt', 'min_samples_leaf': 2...</td>\n",
       "      <td>0.778905</td>\n",
       "      <td>...</td>\n",
       "      <td>0.784787</td>\n",
       "      <td>0.013152</td>\n",
       "      <td>5</td>\n",
       "      <td>0.933316</td>\n",
       "      <td>0.934584</td>\n",
       "      <td>0.935091</td>\n",
       "      <td>0.939402</td>\n",
       "      <td>0.934331</td>\n",
       "      <td>0.935345</td>\n",
       "      <td>0.002109</td>\n",
       "    </tr>\n",
       "  </tbody>\n",
       "</table>\n",
       "<p>12 rows × 24 columns</p>\n",
       "</div>"
      ],
      "text/plain": [
       "    mean_fit_time  std_fit_time  mean_score_time  std_score_time  \\\n",
       "0        0.261925      0.007353         0.011894        0.002969   \n",
       "1        0.527192      0.031338         0.024988        0.003869   \n",
       "2        2.691831      0.084308         0.120545        0.004378   \n",
       "3        0.281045      0.010462         0.014816        0.002048   \n",
       "4        0.516044      0.013460         0.025650        0.004318   \n",
       "5        2.626103      0.043054         0.112799        0.002658   \n",
       "6        0.259316      0.016650         0.013465        0.002250   \n",
       "7        0.531374      0.028465         0.025035        0.002250   \n",
       "8        2.505975      0.073844         0.113883        0.007471   \n",
       "9        0.260798      0.017206         0.011582        0.003276   \n",
       "10       0.528556      0.011798         0.026463        0.004405   \n",
       "11       2.082760      0.071447         0.083326        0.009183   \n",
       "\n",
       "   param_max_features param_min_samples_leaf param_min_samples_split  \\\n",
       "0                sqrt                      1                       2   \n",
       "1                sqrt                      1                       2   \n",
       "2                sqrt                      1                       2   \n",
       "3                sqrt                      1                       4   \n",
       "4                sqrt                      1                       4   \n",
       "5                sqrt                      1                       4   \n",
       "6                sqrt                      2                       2   \n",
       "7                sqrt                      2                       2   \n",
       "8                sqrt                      2                       2   \n",
       "9                sqrt                      2                       4   \n",
       "10               sqrt                      2                       4   \n",
       "11               sqrt                      2                       4   \n",
       "\n",
       "   param_n_estimators                                             params  \\\n",
       "0                  50  {'max_features': 'sqrt', 'min_samples_leaf': 1...   \n",
       "1                 100  {'max_features': 'sqrt', 'min_samples_leaf': 1...   \n",
       "2                 500  {'max_features': 'sqrt', 'min_samples_leaf': 1...   \n",
       "3                  50  {'max_features': 'sqrt', 'min_samples_leaf': 1...   \n",
       "4                 100  {'max_features': 'sqrt', 'min_samples_leaf': 1...   \n",
       "5                 500  {'max_features': 'sqrt', 'min_samples_leaf': 1...   \n",
       "6                  50  {'max_features': 'sqrt', 'min_samples_leaf': 2...   \n",
       "7                 100  {'max_features': 'sqrt', 'min_samples_leaf': 2...   \n",
       "8                 500  {'max_features': 'sqrt', 'min_samples_leaf': 2...   \n",
       "9                  50  {'max_features': 'sqrt', 'min_samples_leaf': 2...   \n",
       "10                100  {'max_features': 'sqrt', 'min_samples_leaf': 2...   \n",
       "11                500  {'max_features': 'sqrt', 'min_samples_leaf': 2...   \n",
       "\n",
       "    split0_test_score  ...  mean_test_score  std_test_score  rank_test_score  \\\n",
       "0            0.770791  ...         0.771197        0.013310               12   \n",
       "1            0.778905  ...         0.774442        0.012918               10   \n",
       "2            0.779919  ...         0.774239        0.013341               11   \n",
       "3            0.784990  ...         0.778296        0.014775                9   \n",
       "4            0.779919  ...         0.779919        0.013485                7   \n",
       "5            0.779919  ...         0.779108        0.014952                8   \n",
       "6            0.781947  ...         0.785193        0.009458                3   \n",
       "7            0.783976  ...         0.786613        0.010878                1   \n",
       "8            0.778905  ...         0.784787        0.013152                5   \n",
       "9            0.781947  ...         0.785193        0.009458                3   \n",
       "10           0.783976  ...         0.786613        0.010878                1   \n",
       "11           0.778905  ...         0.784787        0.013152                5   \n",
       "\n",
       "    split0_train_score  split1_train_score  split2_train_score  \\\n",
       "0             0.990872            0.988590            0.990872   \n",
       "1             0.991126            0.989604            0.992140   \n",
       "2             0.991633            0.989858            0.992140   \n",
       "3             0.970081            0.967799            0.970842   \n",
       "4             0.973377            0.971856            0.971856   \n",
       "5             0.979462            0.977434            0.978195   \n",
       "6             0.934838            0.931288            0.934584   \n",
       "7             0.931542            0.936359            0.936613   \n",
       "8             0.933316            0.934584            0.935091   \n",
       "9             0.934838            0.931288            0.934584   \n",
       "10            0.931542            0.936359            0.936613   \n",
       "11            0.933316            0.934584            0.935091   \n",
       "\n",
       "    split3_train_score  split4_train_score  mean_train_score  std_train_score  \n",
       "0             0.993154            0.989351          0.990568         0.001566  \n",
       "1             0.993408            0.989604          0.991176         0.001473  \n",
       "2             0.993408            0.989604          0.991329         0.001429  \n",
       "3             0.971349            0.967546          0.969523         0.001566  \n",
       "4             0.974138            0.970335          0.972312         0.001326  \n",
       "5             0.978955            0.975913          0.977992         0.001246  \n",
       "6             0.933316            0.934331          0.933671         0.001299  \n",
       "7             0.938387            0.935598          0.935700         0.002271  \n",
       "8             0.939402            0.934331          0.935345         0.002109  \n",
       "9             0.933316            0.934331          0.933671         0.001299  \n",
       "10            0.938387            0.935598          0.935700         0.002271  \n",
       "11            0.939402            0.934331          0.935345         0.002109  \n",
       "\n",
       "[12 rows x 24 columns]"
      ]
     },
     "execution_count": 116,
     "metadata": {},
     "output_type": "execute_result"
    }
   ],
   "source": [
    "pd.DataFrame(grid_search.cv_results_)"
   ]
  },
  {
   "cell_type": "code",
   "execution_count": 119,
   "id": "eecef42c",
   "metadata": {},
   "outputs": [
    {
     "name": "stdout",
     "output_type": "stream",
     "text": [
      "0.7718052738336714\n"
     ]
    }
   ],
   "source": [
    "clf = RandomForestClassifier(random_state=0, max_features='sqrt', \n",
    "                             min_samples_leaf=1, min_samples_split=2, n_estimators=100)\n",
    "cross_val_scores = cross_val_score(clf, x_train, y_train, cv=10)\n",
    "print(np.mean(cross_val_scores))"
   ]
  },
  {
   "cell_type": "code",
   "execution_count": 123,
   "id": "c63e1922",
   "metadata": {},
   "outputs": [
    {
     "data": {
      "text/plain": [
       "RandomForestClassifier(max_features='sqrt', random_state=0)"
      ]
     },
     "execution_count": 123,
     "metadata": {},
     "output_type": "execute_result"
    }
   ],
   "source": [
    "clf.fit( x_train, y_train)"
   ]
  },
  {
   "cell_type": "code",
   "execution_count": 124,
   "id": "f2ff0604",
   "metadata": {},
   "outputs": [
    {
     "data": {
      "text/html": [
       "<div>\n",
       "<style scoped>\n",
       "    .dataframe tbody tr th:only-of-type {\n",
       "        vertical-align: middle;\n",
       "    }\n",
       "\n",
       "    .dataframe tbody tr th {\n",
       "        vertical-align: top;\n",
       "    }\n",
       "\n",
       "    .dataframe thead th {\n",
       "        text-align: right;\n",
       "    }\n",
       "</style>\n",
       "<table border=\"1\" class=\"dataframe\">\n",
       "  <thead>\n",
       "    <tr style=\"text-align: right;\">\n",
       "      <th></th>\n",
       "      <th>columns_name</th>\n",
       "      <th>score_feature_importance</th>\n",
       "    </tr>\n",
       "  </thead>\n",
       "  <tbody>\n",
       "    <tr>\n",
       "      <th>2</th>\n",
       "      <td>MonthlyCharges</td>\n",
       "      <td>0.382643</td>\n",
       "    </tr>\n",
       "    <tr>\n",
       "      <th>3</th>\n",
       "      <td>TotalCharges</td>\n",
       "      <td>0.356387</td>\n",
       "    </tr>\n",
       "    <tr>\n",
       "      <th>1</th>\n",
       "      <td>tenure</td>\n",
       "      <td>0.233518</td>\n",
       "    </tr>\n",
       "    <tr>\n",
       "      <th>0</th>\n",
       "      <td>SeniorCitizen</td>\n",
       "      <td>0.027451</td>\n",
       "    </tr>\n",
       "  </tbody>\n",
       "</table>\n",
       "</div>"
      ],
      "text/plain": [
       "     columns_name  score_feature_importance\n",
       "2  MonthlyCharges                  0.382643\n",
       "3    TotalCharges                  0.356387\n",
       "1          tenure                  0.233518\n",
       "0   SeniorCitizen                  0.027451"
      ]
     },
     "execution_count": 124,
     "metadata": {},
     "output_type": "execute_result"
    }
   ],
   "source": [
    "feature_names = x_train.columns\n",
    "feature_names = list(feature_names)\n",
    "\n",
    "df = pd.DataFrame(list(zip(feature_names, clf.feature_importances_)))\n",
    "df.columns = ['columns_name', 'score_feature_importance']\n",
    "df.sort_values(by=['score_feature_importance'], ascending = False)"
   ]
  },
  {
   "cell_type": "code",
   "execution_count": 125,
   "id": "8f3dc3b6",
   "metadata": {},
   "outputs": [
    {
     "data": {
      "text/plain": [
       "array([0.02745118, 0.23351824, 0.38264329, 0.35638729])"
      ]
     },
     "execution_count": 125,
     "metadata": {},
     "output_type": "execute_result"
    }
   ],
   "source": [
    "clf.feature_importances_"
   ]
  },
  {
   "cell_type": "code",
   "execution_count": null,
   "id": "abc762ad",
   "metadata": {},
   "outputs": [],
   "source": []
  }
 ],
 "metadata": {
  "kernelspec": {
   "display_name": "Python 3 (ipykernel)",
   "language": "python",
   "name": "python3"
  },
  "language_info": {
   "codemirror_mode": {
    "name": "ipython",
    "version": 3
   },
   "file_extension": ".py",
   "mimetype": "text/x-python",
   "name": "python",
   "nbconvert_exporter": "python",
   "pygments_lexer": "ipython3",
   "version": "3.9.12"
  },
  "toc": {
   "base_numbering": 1,
   "nav_menu": {},
   "number_sections": true,
   "sideBar": true,
   "skip_h1_title": false,
   "title_cell": "Table of Contents",
   "title_sidebar": "Contents",
   "toc_cell": false,
   "toc_position": {
    "height": "calc(100% - 180px)",
    "left": "10px",
    "top": "150px",
    "width": "165px"
   },
   "toc_section_display": true,
   "toc_window_display": true
  }
 },
 "nbformat": 4,
 "nbformat_minor": 5
}
